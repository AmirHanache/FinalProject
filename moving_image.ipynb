{
 "cells": [
  {
   "cell_type": "code",
   "execution_count": 2,
   "id": "9990f6fd",
   "metadata": {},
   "outputs": [],
   "source": [
    "import matplotlib.pyplot as plt\n",
    "from skimage.transform import rescale"
   ]
  },
  {
   "cell_type": "code",
   "execution_count": 3,
   "id": "e23b6678",
   "metadata": {},
   "outputs": [
    {
     "name": "stderr",
     "output_type": "stream",
     "text": [
      "C:\\Users\\amirh\\AppData\\Local\\Temp\\ipykernel_26540\\4095566915.py:2: FutureWarning: `multichannel` is a deprecated argument name for `rescale`. It will be removed in version 1.0. Please use `channel_axis` instead.\n",
      "  im = rescale(im, 0.7, multichannel=True)\n"
     ]
    }
   ],
   "source": [
    "im = plt.imread('Summer2.gif')\n",
    "im = rescale(im, 0.7, multichannel=True)"
   ]
  },
  {
   "cell_type": "code",
   "execution_count": 5,
   "id": "2c929296",
   "metadata": {},
   "outputs": [],
   "source": [
    "x, y = 600, 600\n",
    "length = im.shape[1] - x\n",
    "\n",
    "for i in range(length):\n",
    "    xstart, ystart = 0, 150\n",
    "    #plt.imshow(im[ystart:y+ystart, xstart+i:x+xstart+i, :])\n",
    "    plt.imsave('Summer_{}.gif'.format(i), im[ystart:y+ystart, xstart+i:x+xstart+i, :])"
   ]
  },
  {
   "cell_type": "code",
   "execution_count": null,
   "id": "78689890",
   "metadata": {},
   "outputs": [],
   "source": []
  }
 ],
 "metadata": {
  "kernelspec": {
   "display_name": "Python 3 (ipykernel)",
   "language": "python",
   "name": "python3"
  },
  "language_info": {
   "codemirror_mode": {
    "name": "ipython",
    "version": 3
   },
   "file_extension": ".py",
   "mimetype": "text/x-python",
   "name": "python",
   "nbconvert_exporter": "python",
   "pygments_lexer": "ipython3",
   "version": "3.8.18"
  }
 },
 "nbformat": 4,
 "nbformat_minor": 5
}
