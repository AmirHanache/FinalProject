{
 "cells": [
  {
   "cell_type": "code",
   "execution_count": 1,
   "id": "e8434fd0",
   "metadata": {},
   "outputs": [],
   "source": [
    "import matplotlib.pyplot as plt\n",
    "from skimage.transform import rescale"
   ]
  },
  {
   "cell_type": "code",
   "execution_count": 2,
   "id": "68daa3e4",
   "metadata": {},
   "outputs": [],
   "source": [
    "im = plt.imread('Summer2.gif')\n",
    "im = rescale(im, 0.7, multichannel=True)"
   ]
  },
  {
   "cell_type": "code",
   "execution_count": 3,
   "id": "87c88cf8",
   "metadata": {},
   "outputs": [],
   "source": [
    "x, y = 600, 600\n",
    "length = im.shape[1] - x\n",
    "\n",
    "for i in range(length):\n",
    "    xstart, ystart = 0, 150\n",
    "    #plt.imshow(im[ystart:y+ystart, xstart+i:x+xstart+i, :])\n",
    "    plt.imsave('summer/Summer_{}.gif'.format(i), im[ystart:y+ystart, xstart+i:x+xstart+i, :])"
   ]
  },
  {
   "cell_type": "code",
   "execution_count": 18,
   "id": "d24af96c",
   "metadata": {},
   "outputs": [
    {
     "data": {
      "text/plain": [
       "(907, 1613, 4)"
      ]
     },
     "execution_count": 18,
     "metadata": {},
     "output_type": "execute_result"
    }
   ],
   "source": [
    "im.shape"
   ]
  },
  {
   "cell_type": "code",
   "execution_count": null,
   "id": "8373b657",
   "metadata": {},
   "outputs": [],
   "source": []
  }
 ],
 "metadata": {
  "kernelspec": {
   "display_name": "Python 3",
   "language": "python",
   "name": "python3"
  },
  "language_info": {
   "codemirror_mode": {
    "name": "ipython",
    "version": 3
   },
   "file_extension": ".py",
   "mimetype": "text/x-python",
   "name": "python",
   "nbconvert_exporter": "python",
   "pygments_lexer": "ipython3",
   "version": "3.8.8"
  }
 },
 "nbformat": 4,
 "nbformat_minor": 5
}
